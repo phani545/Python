{
 "cells": [
  {
   "cell_type": "code",
   "execution_count": 1,
   "metadata": {},
   "outputs": [
    {
     "data": {
      "text/plain": [
       "\"Tim's Birth Day\""
      ]
     },
     "execution_count": 1,
     "metadata": {},
     "output_type": "execute_result"
    }
   ],
   "source": [
    "str=\"Tim's Birth Day\"\n",
    "str"
   ]
  },
  {
   "cell_type": "code",
   "execution_count": 3,
   "metadata": {},
   "outputs": [
    {
     "data": {
      "text/plain": [
       "\"Tim's Welcome\\nday today\""
      ]
     },
     "execution_count": 3,
     "metadata": {},
     "output_type": "execute_result"
    }
   ],
   "source": [
    "str='''Tim\\'s Welcome\n",
    "day today'''\n",
    "str"
   ]
  },
  {
   "cell_type": "code",
   "execution_count": 11,
   "metadata": {},
   "outputs": [
    {
     "name": "stdout",
     "output_type": "stream",
     "text": [
      "List Iteration\n",
      "geeks\n",
      "for\n",
      "geeks\n",
      "\n",
      "Tuple Iteration\n",
      "geeks\n",
      "for\n",
      "geeks\n",
      "\n",
      "String Iteration\n",
      "G\n",
      "e\n",
      "e\n",
      "k\n",
      "s\n",
      "\n",
      "Dictionary Iteration\n",
      "xyz 123\n",
      "abc 345\n"
     ]
    }
   ],
   "source": [
    "# Python program to illustrate \n",
    "# Iterating over a list \n",
    "print(\"List Iteration\") \n",
    "l = [\"geeks\", \"for\", \"geeks\"] \n",
    "for i in l: \n",
    "\tprint(i) \n",
    "\t\n",
    "# Iterating over a tuple (immutable) \n",
    "print(\"\\nTuple Iteration\") \n",
    "t = (\"geeks\", \"for\", \"geeks\") \n",
    "for i in t: \n",
    "\tprint(i) \n",
    "\t\n",
    "# Iterating over a String \n",
    "print(\"\\nString Iteration\")\t \n",
    "s = \"Geeks\"\n",
    "for i in s : \n",
    "\tprint(i) \n",
    "\t\n",
    "# Iterating over dictionary \n",
    "print(\"\\nDictionary Iteration\") \n",
    "d = dict() \n",
    "d['xyz'] = 123\n",
    "d['abc'] = 345\n",
    "for i in d : \n",
    "\tprint(\"%s %d\" %(i, d[i])) \n"
   ]
  },
  {
   "cell_type": "code",
   "execution_count": 2,
   "metadata": {},
   "outputs": [
    {
     "name": "stdout",
     "output_type": "stream",
     "text": [
      "P\n",
      "H\n",
      "A\n",
      "N\n",
      "I\n",
      " \n",
      "D\n",
      "E\n",
      "E\n",
      "P\n",
      " \n",
      "C\n",
      "H\n",
      "A\n",
      "L\n",
      "L\n",
      "A\n"
     ]
    }
   ],
   "source": [
    "s=\"PHANI DEEP CHALLA\"\n",
    "for i in s:\n",
    "    print(i)"
   ]
  },
  {
   "cell_type": "code",
   "execution_count": null,
   "metadata": {},
   "outputs": [],
   "source": []
  }
 ],
 "metadata": {
  "kernelspec": {
   "display_name": "Python 3",
   "language": "python",
   "name": "python3"
  },
  "language_info": {
   "codemirror_mode": {
    "name": "ipython",
    "version": 3
   },
   "file_extension": ".py",
   "mimetype": "text/x-python",
   "name": "python",
   "nbconvert_exporter": "python",
   "pygments_lexer": "ipython3",
   "version": "3.6.9"
  }
 },
 "nbformat": 4,
 "nbformat_minor": 4
}
