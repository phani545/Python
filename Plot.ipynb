{
 "cells": [
  {
   "cell_type": "code",
   "execution_count": 3,
   "metadata": {},
   "outputs": [],
   "source": [
    "from matplotlib import pylab\n",
    "from matplotlib import pyplot as plt\n",
    "#fig=plt.figure(figsize=(16,9),dpi=100)\n",
    "#x=[1,2,5]\n",
    "#fig,ax=plt.subplots(dpi=100)\n",
    "#ax.plt(x,x+1,color='r')"
   ]
  },
  {
   "cell_type": "code",
   "execution_count": 4,
   "metadata": {},
   "outputs": [
    {
     "name": "stdout",
     "output_type": "stream",
     "text": [
      "[ 0.          0.29411765  0.58823529  0.88235294  1.17647059  1.47058824\n",
      "  1.76470588  2.05882353  2.35294118  2.64705882  2.94117647  3.23529412\n",
      "  3.52941176  3.82352941  4.11764706  4.41176471  4.70588235  5.\n",
      "  5.29411765  5.58823529  5.88235294  6.17647059  6.47058824  6.76470588\n",
      "  7.05882353  7.35294118  7.64705882  7.94117647  8.23529412  8.52941176\n",
      "  8.82352941  9.11764706  9.41176471  9.70588235 10.        ]\n",
      "[  2.           2.08650519   2.34602076   2.77854671   3.38408304\n",
      "   4.16262976   5.11418685   6.23875433   7.53633218   9.00692042\n",
      "  10.65051903  12.46712803  14.4567474   16.61937716  18.9550173\n",
      "  21.46366782  24.14532872  27.          30.02768166  33.2283737\n",
      "  36.60207612  40.14878893  43.86851211  47.76124567  51.82698962\n",
      "  56.06574394  60.47750865  65.06228374  69.8200692   74.75086505\n",
      "  79.85467128  85.13148789  90.58131488  96.20415225 102.        ]\n"
     ]
    }
   ],
   "source": [
    "import numpy as np\n",
    "x=np.linspace(0,10,35)\n",
    "y=x*x+2\n",
    "print(x)\n",
    "print(y)"
   ]
  },
  {
   "cell_type": "code",
   "execution_count": 5,
   "metadata": {
    "scrolled": true
   },
   "outputs": [
    {
     "data": {
      "text/plain": [
       "<Figure size 432x288 with 0 Axes>"
      ]
     },
     "metadata": {},
     "output_type": "display_data"
    }
   ],
   "source": [
    "fig=plt.figure()"
   ]
  },
  {
   "cell_type": "code",
   "execution_count": 12,
   "metadata": {},
   "outputs": [
    {
     "data": {
      "text/html": [
       "<div>\n",
       "<style scoped>\n",
       "    .dataframe tbody tr th:only-of-type {\n",
       "        vertical-align: middle;\n",
       "    }\n",
       "\n",
       "    .dataframe tbody tr th {\n",
       "        vertical-align: top;\n",
       "    }\n",
       "\n",
       "    .dataframe thead th {\n",
       "        text-align: right;\n",
       "    }\n",
       "</style>\n",
       "<table border=\"1\" class=\"dataframe\">\n",
       "  <thead>\n",
       "    <tr style=\"text-align: right;\">\n",
       "      <th></th>\n",
       "      <th>fulfillment_campaign_id_del</th>\n",
       "      <th>ftp_file_name</th>\n",
       "      <th>list_key</th>\n",
       "    </tr>\n",
       "  </thead>\n",
       "  <tbody>\n",
       "    <tr>\n",
       "      <th>0</th>\n",
       "      <td>NaN</td>\n",
       "      <td>DE_FTP_443889_082134723.psv</td>\n",
       "      <td>DE_443889_082134723</td>\n",
       "    </tr>\n",
       "    <tr>\n",
       "      <th>1</th>\n",
       "      <td>32.0</td>\n",
       "      <td>NaN</td>\n",
       "      <td>TestList</td>\n",
       "    </tr>\n",
       "    <tr>\n",
       "      <th>2</th>\n",
       "      <td>69.0</td>\n",
       "      <td>NaN</td>\n",
       "      <td>NaN</td>\n",
       "    </tr>\n",
       "    <tr>\n",
       "      <th>3</th>\n",
       "      <td>70.0</td>\n",
       "      <td>NaN</td>\n",
       "      <td>NaN</td>\n",
       "    </tr>\n",
       "    <tr>\n",
       "      <th>4</th>\n",
       "      <td>70.0</td>\n",
       "      <td>LU_1234_23587.psv</td>\n",
       "      <td>LU_1234_27550</td>\n",
       "    </tr>\n",
       "  </tbody>\n",
       "</table>\n",
       "</div>"
      ],
      "text/plain": [
       "   fulfillment_campaign_id_del                ftp_file_name  \\\n",
       "0                          NaN  DE_FTP_443889_082134723.psv   \n",
       "1                         32.0                          NaN   \n",
       "2                         69.0                          NaN   \n",
       "3                         70.0                          NaN   \n",
       "4                         70.0            LU_1234_23587.psv   \n",
       "\n",
       "              list_key  \n",
       "0  DE_443889_082134723  \n",
       "1             TestList  \n",
       "2                  NaN  \n",
       "3                  NaN  \n",
       "4        LU_1234_27550  "
      ]
     },
     "execution_count": 12,
     "metadata": {},
     "output_type": "execute_result"
    }
   ],
   "source": [
    "import pandas as pd\n",
    "fi=pd.read_csv(\"D:\\Teaching\\MSBI\\Kamini\\dis_ff.txt\")\n",
    "fi.head()"
   ]
  },
  {
   "cell_type": "code",
   "execution_count": 13,
   "metadata": {},
   "outputs": [
    {
     "name": "stdout",
     "output_type": "stream",
     "text": [
      "<class 'pandas.core.frame.DataFrame'>\n",
      "RangeIndex: 50 entries, 0 to 49\n",
      "Data columns (total 3 columns):\n",
      "fulfillment_campaign_id_del    49 non-null float64\n",
      "ftp_file_name                  47 non-null object\n",
      "list_key                       35 non-null object\n",
      "dtypes: float64(1), object(2)\n",
      "memory usage: 1.2+ KB\n"
     ]
    }
   ],
   "source": [
    "fi.info()"
   ]
  },
  {
   "cell_type": "code",
   "execution_count": null,
   "metadata": {},
   "outputs": [],
   "source": []
  }
 ],
 "metadata": {
  "kernelspec": {
   "display_name": "Python 3",
   "language": "python",
   "name": "python3"
  },
  "language_info": {
   "codemirror_mode": {
    "name": "ipython",
    "version": 3
   },
   "file_extension": ".py",
   "mimetype": "text/x-python",
   "name": "python",
   "nbconvert_exporter": "python",
   "pygments_lexer": "ipython3",
   "version": "3.6.9"
  }
 },
 "nbformat": 4,
 "nbformat_minor": 4
}
